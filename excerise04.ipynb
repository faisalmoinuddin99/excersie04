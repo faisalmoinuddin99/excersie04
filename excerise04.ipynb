{
 "cells": [
  {
   "cell_type": "code",
   "execution_count": null,
   "metadata": {},
   "outputs": [],
   "source": [
    "# Pattern Printing\n",
    "# Input = Integer n\n",
    "# boolean = True or False\n",
    "\n",
    "# if True\n",
    "*\n",
    "**\n",
    "***\n",
    "****\n",
    "\n",
    "# if False\n",
    "\n",
    "****\n",
    "***\n",
    "**\n",
    "*\n"
   ]
  },
  {
   "cell_type": "code",
   "execution_count": 2,
   "metadata": {},
   "outputs": [
    {
     "name": "stdout",
     "output_type": "stream",
     "text": [
      "Enter the number:5\n",
      "Enter the number among 0 and 1:0\n",
      "****\n",
      "\n",
      "***\n",
      "\n",
      "**\n",
      "\n",
      "*\n",
      "\n",
      "\n",
      "\n"
     ]
    }
   ],
   "source": [
    "n = int(input(\"Enter the number:\"))\n",
    "boole = int(input(\"Enter the number among 0 and 1:\"))\n",
    "boolean = bool(boole)\n",
    "\n",
    "if boolean == True:\n",
    "    i = 1\n",
    "    while i <= n:\n",
    "        j = 0\n",
    "        while i > j:\n",
    "            print(\"*\",end=\"\")\n",
    "            j += 1\n",
    "        print(\"\\n\")\n",
    "        i += 1\n",
    "        \n",
    "elif boolean == False:\n",
    "    i = 1\n",
    "    while i <= n:\n",
    "        j = 4\n",
    "        while i <= j:\n",
    "            print(\"*\",end=\"\")\n",
    "            j -= 1\n",
    "        print(\"\\n\")\n",
    "        i +=1"
   ]
  },
  {
   "cell_type": "code",
   "execution_count": null,
   "metadata": {},
   "outputs": [],
   "source": []
  },
  {
   "cell_type": "code",
   "execution_count": null,
   "metadata": {},
   "outputs": [],
   "source": []
  }
 ],
 "metadata": {
  "kernelspec": {
   "display_name": "Python 3",
   "language": "python",
   "name": "python3"
  },
  "language_info": {
   "codemirror_mode": {
    "name": "ipython",
    "version": 3
   },
   "file_extension": ".py",
   "mimetype": "text/x-python",
   "name": "python",
   "nbconvert_exporter": "python",
   "pygments_lexer": "ipython3",
   "version": "3.7.4"
  }
 },
 "nbformat": 4,
 "nbformat_minor": 2
}
